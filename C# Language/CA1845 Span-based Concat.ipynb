{
 "cells": [
  {
   "cell_type": "markdown",
   "id": "ec04699b-cf98-45c0-8275-50bc467ae3af",
   "metadata": {},
   "source": [
    "# CA1845 Using Concat and AsSpan instead of Substring"
   ]
  },
  {
   "cell_type": "markdown",
   "id": "0e5dd2ce-c6f5-46a2-941a-8ab7296be312",
   "metadata": {},
   "source": [
    "Using the standard `String.Substring` method will cause the editor to generate a CA1845 warning that span based `String.Concat` should be used."
   ]
  },
  {
   "cell_type": "code",
   "execution_count": 2,
   "id": "7c0163e1-e443-426c-ad2d-7ce291b72463",
   "metadata": {
    "vscode": {
     "languageId": "csharp"
    }
   },
   "outputs": [],
   "source": [
    "string text = \"Test Message\";\n",
    "public string Test_Substring() => \"Last: \" + text.Substring(5) + \"\\nFirst: \" + text.Substring(0, 5);\n",
    "public string Test_Concat() => string.Concat(\"Last: \", text.AsSpan(5), \"\\nFirst: \", text.AsSpan(0, 5));"
   ]
  },
  {
   "cell_type": "markdown",
   "id": "950057e1",
   "metadata": {},
   "source": [
    "Running these operations with Benchmark.NET produces the following report"
   ]
  },
  {
   "cell_type": "markdown",
   "id": "6898f9dc",
   "metadata": {},
   "source": [
    "```\n",
    "// * Summary *\n",
    "\n",
    "BenchmarkDotNet=v0.13.1, OS=Windows 10.0.19043.1645 (21H1/May2021Update)\n",
    "Intel Core i7-4960HQ CPU 2.60GHz (Haswell), 1 CPU, 8 logical and 4 physical cores\n",
    ".NET SDK=6.0.300-preview.22204.3\n",
    "  [Host]     : .NET 6.0.4 (6.0.422.16404), X64 RyuJIT\n",
    "  DefaultJob : .NET 6.0.4 (6.0.422.16404), X64 RyuJIT\n",
    "\n",
    "\n",
    "|         Method |     Mean |    Error |   StdDev |\n",
    "|--------------- |---------:|---------:|---------:|\n",
    "| Test_Substring | 43.23 ns | 0.435 ns | 0.363 ns |\n",
    "|    Test_Concat | 24.29 ns | 0.307 ns | 0.272 ns |\n",
    "\n",
    "// * Hints *\n",
    "Outliers\n",
    "  TestHarness.Test_Substring: Default -> 2 outliers were removed (50.36 ns, 50.61 ns)\n",
    "  TestHarness.Test_Concat: Default    -> 1 outlier  was  removed (29.84 ns)\n",
    "\n",
    "// * Legends *\n",
    "  Mean   : Arithmetic mean of all measurements\n",
    "  Error  : Half of 99.9% confidence interval\n",
    "  StdDev : Standard deviation of all measurements\n",
    "  1 ns   : 1 Nanosecond (0.000000001 sec)\n",
    "\n",
    "// ***** BenchmarkRunner: End *****\n",
    "// ** Remained 0 benchmark(s) to run **\n",
    "Run time: 00:00:52 (52.89 sec), executed benchmarks: 2\n",
    "\n",
    "Global total time: 00:01:10 (70.51 sec), executed benchmarks: 2\n",
    "```"
   ]
  },
  {
   "cell_type": "code",
   "execution_count": null,
   "id": "1f0aaabd-a67a-448c-a000-32a2f1b2c35a",
   "metadata": {},
   "outputs": [],
   "source": []
  }
 ],
 "metadata": {
  "kernelspec": {
   "display_name": ".NET (C#)",
   "language": "C#",
   "name": ".net-csharp"
  },
  "language_info": {
   "file_extension": ".cs",
   "mimetype": "text/x-csharp",
   "name": "C#",
   "pygments_lexer": "csharp",
   "version": "9.0"
  }
 },
 "nbformat": 4,
 "nbformat_minor": 5
}
