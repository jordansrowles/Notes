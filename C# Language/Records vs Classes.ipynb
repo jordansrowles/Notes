{
 "cells": [
  {
   "cell_type": "markdown",
   "id": "84cbf0a0-1bc5-48bb-ab0b-fcff7ce0be89",
   "metadata": {},
   "source": [
    "# Records vs Classes"
   ]
  },
  {
   "cell_type": "markdown",
   "id": "89438f30-4679-433e-80ee-9f2e7fcc0b6a",
   "metadata": {},
   "source": [
    "**When do I use what? (`class` vs `struct` vs `record`)**\n",
    "\n",
    "90% of the time, use a `class`, unless:\n",
    "- You need a value type (go with `struct`)\n",
    "- Data is one way flow, DTO like, preferably immutable (go with `record`)\n",
    "\n",
    "- Records are *reference* types, but behave like *value* types\n",
    "- Structs shouldn't involve any kind of inheritance, are immutable, and should represent a single value (much like the primitives, like `int`, `char`, `double`, ...)"
   ]
  },
  {
   "cell_type": "code",
   "execution_count": 3,
   "id": "87e56bfb-60f2-4b11-ab34-f0532cb6eb63",
   "metadata": {},
   "outputs": [],
   "source": [
    "public class Person\n",
    "{\n",
    "    public string FirstName { get; set; }\n",
    "    public string LastName { get; set; }\n",
    "}\n",
    "\n",
    "public class Employee : Person\n",
    "{\n",
    "    public string EmployeeNumber { get; set; }\n",
    "    public DateTime StartDate { get; set; }\n",
    "}"
   ]
  },
  {
   "cell_type": "code",
   "execution_count": 4,
   "id": "d0928117-9cb7-4726-9fe7-c50afafb90dd",
   "metadata": {},
   "outputs": [
    {
     "name": "stdout",
     "output_type": "stream",
     "text": [
      "Jordan Rowles\n"
     ]
    }
   ],
   "source": [
    "Employee a = new Employee();\n",
    "a.FirstName = \"Jordan\";\n",
    "a.LastName = \"Rowles\";\n",
    "Console.WriteLine(a.FirstName + \" \" + a.LastName);"
   ]
  },
  {
   "cell_type": "code",
   "execution_count": 5,
   "id": "66b227e0-e938-4319-bde5-8d697912ae1b",
   "metadata": {},
   "outputs": [],
   "source": [
    "public record Person(string FirstName, string LastName)\n",
    "{\n",
    "    public bool IsOnBreak { get; set; } = false;\n",
    "}"
   ]
  },
  {
   "cell_type": "markdown",
   "id": "be1fccf5-f7eb-480c-b42b-c1c2e5151013",
   "metadata": {},
   "source": [
    "## Making it over-complicated"
   ]
  },
  {
   "cell_type": "code",
   "execution_count": 8,
   "id": "ea8bee7b-df4f-4ef4-86e1-9c730c4c2ac3",
   "metadata": {},
   "outputs": [],
   "source": [
    "public interface IPerson\n",
    "{\n",
    "    string FirstName { get; set; }\n",
    "    string LastName { get; set; }\n",
    "}\n",
    "\n",
    "public class Person : IPerson\n",
    "{\n",
    "    public string FirstName { get; set; } = \"New\";\n",
    "    public string LastName { get; set; } = \"Employee\";\n",
    "\n",
    "    public override string ToString() => $\"{FirstName} {LastName}\";\n",
    "}\n",
    "\n",
    "public class Employee : Person, IPerson\n",
    "{\n",
    "    public string EmployeeNumber { get; set; } = Guid.NewGuid().ToString();\n",
    "\n",
    "    public Employee(string first, string second)\n",
    "    {\n",
    "        base.FirstName = first;\n",
    "        base.LastName = second;\n",
    "    }\n",
    "\n",
    "    public override string ToString() => $\" {LastName}, {FirstName} ({EmployeeNumber})\";\n",
    "}"
   ]
  },
  {
   "cell_type": "code",
   "execution_count": 9,
   "id": "d50541cf-6102-49c6-857c-427475bf56c8",
   "metadata": {},
   "outputs": [
    {
     "name": "stdout",
     "output_type": "stream",
     "text": [
      " Rowles, Jordan (c29f0a0d-9524-420e-aab7-2654699862d6)\n",
      " Rowles, Jordan (c29f0a0d-9524-420e-aab7-2654699862d6)\n"
     ]
    }
   ],
   "source": [
    "IPerson me = new Employee(\"Jordan\", \"Rowles\");\n",
    "Console.WriteLine(me.ToString());\n",
    "\n",
    "var me2 = (Person)me;\n",
    "Console.WriteLine(me2);"
   ]
  }
 ],
 "metadata": {
  "kernelspec": {
   "display_name": ".NET (C#)",
   "language": "C#",
   "name": ".net-csharp"
  },
  "language_info": {
   "file_extension": ".cs",
   "mimetype": "text/x-csharp",
   "name": "C#",
   "pygments_lexer": "csharp",
   "version": "9.0"
  },
  "toc-autonumbering": false,
  "toc-showcode": true,
  "toc-showmarkdowntxt": false
 },
 "nbformat": 4,
 "nbformat_minor": 5
}
