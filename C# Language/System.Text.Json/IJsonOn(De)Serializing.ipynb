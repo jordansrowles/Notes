{
 "cells": [
  {
   "cell_type": "markdown",
   "metadata": {},
   "source": [
    "# IJsonOnDeserialized and IJsonOnSerializing"
   ]
  },
  {
   "cell_type": "code",
   "execution_count": 7,
   "metadata": {
    "vscode": {
     "languageId": "csharp"
    }
   },
   "outputs": [
    {
     "data": {
      "text/html": [
       "<div><div></div><div></div><div><strong>Installed Packages</strong><ul><li><span>xUnit, 2.4.1</span></li></ul></div></div>"
      ]
     },
     "metadata": {},
     "output_type": "display_data"
    },
    {
     "name": "stdout",
     "output_type": "stream",
     "text": [
      "Jordan\n"
     ]
    }
   ],
   "source": [
    "#r \"nuget: xUnit\"\n",
    "\n",
    "using System;\n",
    "using System.Text.Json;\n",
    "using System.Text.Json.Serialization;\n",
    "using Xunit;\n",
    "\n",
    "// Throws exception\n",
    "[Fact]\n",
    "public void InvalidPerson() {\n",
    "    Person invalidPerson = new();\n",
    "    Assert.Throws<ArgumentNullException>(() => JsonSerializer.Serialize(invalidPerson));\n",
    "}\n",
    "\n",
    "// Throws exception\n",
    "[Fact]\n",
    "public void InvalidJson() {\n",
    "    string invalid = \"{}\";\n",
    "    Assert.Throws<ArgumentNullException>(() => JsonSerializer.Deserialize<Person>(invalid));\n",
    "}\n",
    "\n",
    "// Valid operation\n",
    "Person person = new() { FirstName = \"Jordan\" };\n",
    "JsonSerializer.Serialize(person);\n",
    "\n",
    "Console.WriteLine(person.FirstName);\n",
    "\n",
    "public class Person : IJsonOnDeserialized, IJsonOnSerializing\n",
    "{\n",
    "    // Gets called before serialising the object\n",
    "    void IJsonOnSerializing.OnSerializing() => Validate();\n",
    "\n",
    "    // Gets called after deserialisation of the object\n",
    "    void IJsonOnDeserialized.OnDeserialized() => Validate();\n",
    "\n",
    "    public string FirstName { get; set; }\n",
    "\n",
    "    public void Validate() =>\n",
    "        ArgumentNullException.ThrowIfNull(FirstName, nameof(FirstName));\n",
    "    \n",
    "}"
   ]
  },
  {
   "cell_type": "code",
   "execution_count": null,
   "metadata": {},
   "outputs": [],
   "source": []
  }
 ],
 "metadata": {
  "kernelspec": {
   "display_name": ".NET (C#)",
   "language": "C#",
   "name": ".net-csharp"
  },
  "language_info": {
   "file_extension": ".cs",
   "mimetype": "text/x-csharp",
   "name": "C#",
   "pygments_lexer": "csharp",
   "version": "9.0"
  }
 },
 "nbformat": 4,
 "nbformat_minor": 4
}
